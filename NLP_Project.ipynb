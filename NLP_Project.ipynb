{
  "cells": [
    {
      "cell_type": "markdown",
      "source": [
        "# Conversational AI: Natural Language Processing (UCS664)\n",
        "## Project - \"Hinglish\" hate speech classification\n",
        "Project Description: This project aims to build an array of different types of ML models to compare which is the best at classifying hate speech written in Hindi but using the Roman (English) script\n",
        "\n",
        "### Made by:\n",
        "1. Sarthak Kumar - 102215231\n",
        "2. Navansh Krishna Goswami - 102215193"
      ],
      "metadata": {
        "id": "OdAiUVDWrSbS"
      }
    },
    {
      "cell_type": "code",
      "execution_count": 1,
      "metadata": {
        "id": "6W3SYf-AQKv6"
      },
      "outputs": [],
      "source": [
        "import re\n",
        "import numpy as np\n",
        "import pandas as pd\n",
        "from pathlib import Path\n",
        "\n",
        "from sklearn.model_selection import train_test_split\n",
        "from sklearn.metrics import (\n",
        "    classification_report, precision_recall_fscore_support, accuracy_score\n",
        ")\n",
        "from sklearn.feature_extraction.text import TfidfVectorizer\n",
        "from sklearn.pipeline import Pipeline, FeatureUnion\n",
        "from sklearn.base import BaseEstimator, TransformerMixin\n",
        "from sklearn.linear_model import LogisticRegression\n",
        "from sklearn.neural_network import MLPClassifier\n",
        "\n",
        "from datasets import Dataset, DatasetDict\n",
        "from transformers import (\n",
        "    AutoTokenizer, AutoModelForSequenceClassification,\n",
        "    Trainer, TrainingArguments, PreTrainedModel\n",
        ")\n",
        "\n",
        "import gensim\n",
        "from sklearn.naive_bayes import MultinomialNB\n",
        "from gensim.models import Word2Vec\n",
        "from sklearn.ensemble import RandomForestClassifier\n",
        "from xgboost import XGBClassifier"
      ]
    },
    {
      "cell_type": "code",
      "execution_count": 2,
      "metadata": {
        "id": "g0JZYWFsRG45"
      },
      "outputs": [],
      "source": [
        "df = pd.read_csv('hate_speech.tsv', sep='\\t')\n",
        "df_prof = pd.read_csv('Hinglish_Profanity_List.csv', encoding='cp1252')"
      ]
    },
    {
      "cell_type": "code",
      "execution_count": 3,
      "metadata": {
        "id": "wZZkn7hoRKSF"
      },
      "outputs": [],
      "source": [
        "def clean_text(text):\n",
        "    if not isinstance(text, str):\n",
        "        return \"\"\n",
        "    text = text.lower()\n",
        "    text = re.sub(r\"http\\S+|@\\w+|#\\w+\", \"\", text)\n",
        "    text = re.sub(r\"[^a-zA-Z\\s]\", \"\", text)\n",
        "    return text.strip()\n",
        "\n",
        "df['text'] = df['text'].apply(clean_text)\n",
        "\n",
        "prof_dict = dict(zip(df_prof['word'].str.lower(), df_prof['score']))"
      ]
    },
    {
      "cell_type": "markdown",
      "source": [
        "# Semantic Models\n",
        "1. Fine tuned Multilingual BERT\n",
        "2. MLP (using word embeddings, tf-idf and lexicon-based features)\n",
        "3. XGBoost (using word embeddings and lexicon based features)\n",
        "\n"
      ],
      "metadata": {
        "id": "l1kSjdnD10Ot"
      }
    },
    {
      "cell_type": "code",
      "source": [
        "sentences = [text.split() for text in df['text']]\n",
        "w2v_model = Word2Vec(sentences, vector_size=100, window=10, min_count=2, workers=4)\n"
      ],
      "metadata": {
        "id": "FeOoow7RypDj"
      },
      "execution_count": 4,
      "outputs": []
    },
    {
      "cell_type": "code",
      "execution_count": 5,
      "metadata": {
        "id": "Eejsli9hRNGE"
      },
      "outputs": [],
      "source": [
        "def lexicon_features(text):\n",
        "    toks = text.split()\n",
        "    scores = [prof_dict.get(tok, 0) for tok in toks]\n",
        "    has_prof = int(any(scores))\n",
        "    prof_count = sum(1 for s in scores if s>0)\n",
        "    prof_score_sum = sum(scores)\n",
        "    prof_score_max = max(scores) if scores else 0\n",
        "    return has_prof, prof_count, prof_score_sum, prof_score_max\n",
        "\n",
        "lex_feats = df['text'].apply(lexicon_features).tolist()\n",
        "df[['has_prof', 'prof_count', 'prof_score_sum', 'prof_score_max']] = pd.DataFrame(\n",
        "    lex_feats, index=df.index\n",
        ")"
      ]
    },
    {
      "source": [
        "label_map = {\n",
        "    'n': 0,\n",
        "    'no': 0,\n",
        "    'y': 1,\n",
        "    'yes': 1\n",
        "}\n",
        "\n",
        "df['label'] = df['label'].str.lower().map(label_map)\n",
        "\n",
        "df = df.dropna(subset=['label'])\n",
        "\n",
        "X = df[['text','has_prof','prof_count','prof_score_sum','prof_score_max']]\n",
        "y = df['label']\n",
        "\n",
        "X_train_bl, X_test_bl, y_train_bl, y_test_bl = train_test_split(\n",
        "    X, y, stratify=y, test_size=0.2, random_state=42\n",
        ")"
      ],
      "cell_type": "code",
      "metadata": {
        "id": "zRhuwI280fMw"
      },
      "execution_count": 6,
      "outputs": []
    },
    {
      "cell_type": "code",
      "source": [
        "class EmbeddingVectorizer(BaseEstimator, TransformerMixin):\n",
        "    def __init__(self, model):\n",
        "        self.model = model\n",
        "        self.dim = model.vector_size\n",
        "\n",
        "    def fit(self, X, y=None):\n",
        "        return self\n",
        "\n",
        "    def transform(self, X):\n",
        "        vectors = []\n",
        "        for sent in X:\n",
        "            toks = sent.split()\n",
        "            vecs = [self.model.wv[tok] for tok in toks if tok in self.model.wv]\n",
        "            if vecs:\n",
        "                vectors.append(np.mean(vecs, axis=0))\n",
        "            else:\n",
        "                vectors.append(np.zeros(self.dim))\n",
        "        return np.array(vectors)"
      ],
      "metadata": {
        "id": "NPI6PamxzSyj"
      },
      "execution_count": 7,
      "outputs": []
    },
    {
      "cell_type": "code",
      "source": [
        "class LexiconFeatureExtractor(BaseEstimator, TransformerMixin):\n",
        "    def fit(self, X, y=None):\n",
        "        return self\n",
        "\n",
        "    def transform(self, X):\n",
        "        if isinstance(X, pd.DataFrame):\n",
        "            X = X['text']\n",
        "\n",
        "        def get_features(text):\n",
        "            words = text.split()\n",
        "            scores = [prof_dict.get(word.lower(), 0) for word in words]\n",
        "            return [\n",
        "                int(any(scores)),\n",
        "                sum(1 for s in scores if s > 0),\n",
        "                sum(scores),\n",
        "                max(scores) if scores else 0\n",
        "            ]\n",
        "        return np.array([get_features(text) for text in X])\n"
      ],
      "metadata": {
        "id": "093OghbOWrMH"
      },
      "execution_count": 8,
      "outputs": []
    },
    {
      "cell_type": "code",
      "source": [
        "from sklearn.preprocessing import FunctionTransformer\n",
        "get_text = FunctionTransformer(lambda x: x, validate=False)"
      ],
      "metadata": {
        "id": "fkbHkbmtcp8P"
      },
      "execution_count": 9,
      "outputs": []
    },
    {
      "cell_type": "code",
      "source": [
        "pipeline_NN = Pipeline([\n",
        "    ('features', FeatureUnion([\n",
        "        ('embed', EmbeddingVectorizer(w2v_model)),\n",
        "        ('tfidf', Pipeline([\n",
        "                ('selector', get_text),\n",
        "                ('tfidf', TfidfVectorizer(ngram_range=(1,2), max_features=5000))\n",
        "            ]))\n",
        "        ,('lexicon', LexiconFeatureExtractor())\n",
        "    ])),\n",
        "    ('clf', MLPClassifier(hidden_layer_sizes=(128,128,32,32), max_iter=300, random_state=42))\n",
        "])\n",
        "\n",
        "pipeline_XGB = Pipeline([\n",
        "    ('features', FeatureUnion([\n",
        "        ('embed', EmbeddingVectorizer(w2v_model))\n",
        "        ,('lexicon', LexiconFeatureExtractor())\n",
        "    ])),\n",
        "    ('clf', XGBClassifier())\n",
        "])\n",
        "\n",
        "\n",
        "# MLP\n",
        "pipeline_NN.fit(X_train_bl['text'], y_train_bl)\n",
        "preds1 = pipeline_NN.predict(X_test_bl['text'])\n",
        "print(\"=== Neural Network ===\")\n",
        "print(classification_report(y_test_bl, preds1))\n",
        "\n",
        "# XGBoost\n",
        "pipeline_XGB.fit(X_train_bl['text'], y_train_bl)\n",
        "preds2 = pipeline_XGB.predict(X_test_bl['text'])\n",
        "print(\"=== XGBoost ===\")\n",
        "print(classification_report(y_test_bl, preds2))\n",
        "\n"
      ],
      "metadata": {
        "colab": {
          "base_uri": "https://localhost:8080/",
          "height": 0
        },
        "id": "p8s76oEyzg0b",
        "outputId": "7a0f3c34-6060-4d40-8457-a74aeaf59f38"
      },
      "execution_count": 10,
      "outputs": [
        {
          "output_type": "stream",
          "name": "stdout",
          "text": [
            "=== Neural Network ===\n",
            "              precision    recall  f1-score   support\n",
            "\n",
            "         0.0       0.70      0.72      0.71       584\n",
            "         1.0       0.48      0.47      0.48       332\n",
            "\n",
            "    accuracy                           0.63       916\n",
            "   macro avg       0.59      0.59      0.59       916\n",
            "weighted avg       0.62      0.63      0.63       916\n",
            "\n",
            "=== XGBoost ===\n",
            "              precision    recall  f1-score   support\n",
            "\n",
            "         0.0       0.69      0.84      0.75       584\n",
            "         1.0       0.53      0.33      0.41       332\n",
            "\n",
            "    accuracy                           0.65       916\n",
            "   macro avg       0.61      0.58      0.58       916\n",
            "weighted avg       0.63      0.65      0.63       916\n",
            "\n"
          ]
        }
      ]
    },
    {
      "cell_type": "code",
      "source": [
        "#Fine tuning multilingual BERT\n",
        "\n",
        "y_train_enc = y_train_bl.astype(int)\n",
        "y_test_enc = y_test_bl.astype(int)\n",
        "\n",
        "train_ds = Dataset.from_pandas(pd.DataFrame({'text': X_train_bl['text'].tolist(), 'label': y_train_enc}))\n",
        "test_ds = Dataset.from_pandas(pd.DataFrame({'text': X_test_bl['text'].tolist(), 'label': y_test_enc}))\n",
        "\n",
        "model_name = 'distilbert-base-multilingual-cased'\n",
        "tokenizer = AutoTokenizer.from_pretrained(model_name)\n",
        "\n",
        "def tokenize(batch):\n",
        "    return tokenizer(batch['text'], padding='max_length', truncation=True, max_length=128)\n",
        "\n",
        "train_ds = train_ds.map(tokenize, batched=True, remove_columns=['text'])\n",
        "test_ds = test_ds.map(tokenize, batched=True, remove_columns=['text'])\n",
        "\n",
        "train_ds.set_format(type='torch', columns=['input_ids', 'attention_mask', 'label'])\n",
        "test_ds.set_format(type='torch', columns=['input_ids', 'attention_mask', 'label'])\n",
        "\n",
        "model = AutoModelForSequenceClassification.from_pretrained(model_name, num_labels=2)\n",
        "\n",
        "training_args = TrainingArguments(\n",
        "    output_dir='./results',\n",
        "    eval_strategy=\"epoch\",\n",
        "    save_strategy=\"epoch\",\n",
        "    logging_dir='./logs',\n",
        "    learning_rate=2e-5,\n",
        "    per_device_train_batch_size=16,\n",
        "    per_device_eval_batch_size=32,\n",
        "    num_train_epochs=3,\n",
        "    weight_decay=0.01,\n",
        "    load_best_model_at_end=True,\n",
        "    metric_for_best_model=\"f1\"\n",
        ")\n",
        "\n",
        "def compute_metrics(p):\n",
        "    preds = np.argmax(p.predictions, axis=1)\n",
        "    precision, recall, f1, _ = precision_recall_fscore_support(p.label_ids, preds, average='weighted')\n",
        "    acc = accuracy_score(p.label_ids, preds)\n",
        "    return {\"accuracy\": acc, \"precision\": precision, \"recall\": recall, \"f1\": f1}\n",
        "\n",
        "trainer = Trainer(\n",
        "    model=model,\n",
        "    args=training_args,\n",
        "    train_dataset=train_ds,\n",
        "    eval_dataset=test_ds,\n",
        "    compute_metrics=compute_metrics,\n",
        ")\n",
        "\n",
        "trainer.train()\n",
        "\n",
        "preds_output = trainer.predict(test_ds)\n",
        "preds = np.argmax(preds_output.predictions, axis=1)\n",
        "\n",
        "print(\"=== DistilBERT Fine-Tuned ===\")\n",
        "print(classification_report(y_test_enc, preds))\n"
      ],
      "metadata": {
        "colab": {
          "base_uri": "https://localhost:8080/",
          "height": 698,
          "referenced_widgets": [
            "03e4f93a3dde47f3a2fc9391f7f06d08",
            "4e97dab6e72944beb95c5596f46076b9",
            "9258a14bf06842c68236a5c7df0c0fc4",
            "cac782d58c8444d2a8706ad2cb874ccc",
            "c128f2ca0aee402c9dbf71202b24b245",
            "00bf261d4b784594b5cf96b84ba09982",
            "12c7728be58c423eb055ff09e08662d3",
            "fb04ccb265a24fc2a9d91a3f88a1132f",
            "bd80531d759d4d33ad6a51759252a8a7",
            "2261dbefd0534af3bdc6f1a57b340e8e",
            "c4836f5637594fa28897d656957c8f64",
            "62d386440bbc43d9910946d9c073475a",
            "cebe63e1d98f4a5294352a3fbb771399",
            "03dd907961f14e1d917f5915f99bedc8",
            "bdc55e7db3444c8494bb5a0c45e1482e",
            "7c572854c2f1422eb87b9a8600f9c80c",
            "75ffdc4466b14178895c8dccd0854448",
            "86402d7b8a3c4ccd852c60726846e82b",
            "e70bb9bd76c84f529731feef0908cf89",
            "6003dbe1871641bdac6b5ac09b792b6f",
            "625c99cbd048400c9753e4642a13ea52",
            "3862484f245f4ab5be233df875283df1"
          ]
        },
        "id": "uq0aC2oiKpYr",
        "outputId": "c4d7058e-6f81-4733-ce2d-9dbe316125bd"
      },
      "execution_count": 11,
      "outputs": [
        {
          "output_type": "stream",
          "name": "stderr",
          "text": [
            "/usr/local/lib/python3.11/dist-packages/huggingface_hub/utils/_auth.py:94: UserWarning: \n",
            "The secret `HF_TOKEN` does not exist in your Colab secrets.\n",
            "To authenticate with the Hugging Face Hub, create a token in your settings tab (https://huggingface.co/settings/tokens), set it as secret in your Google Colab and restart your session.\n",
            "You will be able to reuse this secret in all of your notebooks.\n",
            "Please note that authentication is recommended but still optional to access public models or datasets.\n",
            "  warnings.warn(\n"
          ]
        },
        {
          "output_type": "display_data",
          "data": {
            "text/plain": [
              "Map:   0%|          | 0/3661 [00:00<?, ? examples/s]"
            ],
            "application/vnd.jupyter.widget-view+json": {
              "version_major": 2,
              "version_minor": 0,
              "model_id": "03e4f93a3dde47f3a2fc9391f7f06d08"
            }
          },
          "metadata": {}
        },
        {
          "output_type": "display_data",
          "data": {
            "text/plain": [
              "Map:   0%|          | 0/916 [00:00<?, ? examples/s]"
            ],
            "application/vnd.jupyter.widget-view+json": {
              "version_major": 2,
              "version_minor": 0,
              "model_id": "62d386440bbc43d9910946d9c073475a"
            }
          },
          "metadata": {}
        },
        {
          "output_type": "stream",
          "name": "stderr",
          "text": [
            "Some weights of DistilBertForSequenceClassification were not initialized from the model checkpoint at distilbert-base-multilingual-cased and are newly initialized: ['classifier.bias', 'classifier.weight', 'pre_classifier.bias', 'pre_classifier.weight']\n",
            "You should probably TRAIN this model on a down-stream task to be able to use it for predictions and inference.\n",
            "\u001b[34m\u001b[1mwandb\u001b[0m: \u001b[33mWARNING\u001b[0m The `run_name` is currently set to the same value as `TrainingArguments.output_dir`. If this was not intended, please specify a different run name by setting the `TrainingArguments.run_name` parameter.\n",
            "\u001b[34m\u001b[1mwandb\u001b[0m: Currently logged in as: \u001b[33mskumar9_be22\u001b[0m (\u001b[33mskumar9_be22-thapar-university\u001b[0m) to \u001b[32mhttps://api.wandb.ai\u001b[0m. Use \u001b[1m`wandb login --relogin`\u001b[0m to force relogin\n"
          ]
        },
        {
          "output_type": "display_data",
          "data": {
            "text/plain": [
              "<IPython.core.display.HTML object>"
            ],
            "text/html": [
              "Tracking run with wandb version 0.19.11"
            ]
          },
          "metadata": {}
        },
        {
          "output_type": "display_data",
          "data": {
            "text/plain": [
              "<IPython.core.display.HTML object>"
            ],
            "text/html": [
              "Run data is saved locally in <code>/content/wandb/run-20250602_071531-p4a2l4te</code>"
            ]
          },
          "metadata": {}
        },
        {
          "output_type": "display_data",
          "data": {
            "text/plain": [
              "<IPython.core.display.HTML object>"
            ],
            "text/html": [
              "Syncing run <strong><a href='https://wandb.ai/skumar9_be22-thapar-university/huggingface/runs/p4a2l4te' target=\"_blank\">./results</a></strong> to <a href='https://wandb.ai/skumar9_be22-thapar-university/huggingface' target=\"_blank\">Weights & Biases</a> (<a href='https://wandb.me/developer-guide' target=\"_blank\">docs</a>)<br>"
            ]
          },
          "metadata": {}
        },
        {
          "output_type": "display_data",
          "data": {
            "text/plain": [
              "<IPython.core.display.HTML object>"
            ],
            "text/html": [
              " View project at <a href='https://wandb.ai/skumar9_be22-thapar-university/huggingface' target=\"_blank\">https://wandb.ai/skumar9_be22-thapar-university/huggingface</a>"
            ]
          },
          "metadata": {}
        },
        {
          "output_type": "display_data",
          "data": {
            "text/plain": [
              "<IPython.core.display.HTML object>"
            ],
            "text/html": [
              " View run at <a href='https://wandb.ai/skumar9_be22-thapar-university/huggingface/runs/p4a2l4te' target=\"_blank\">https://wandb.ai/skumar9_be22-thapar-university/huggingface/runs/p4a2l4te</a>"
            ]
          },
          "metadata": {}
        },
        {
          "output_type": "display_data",
          "data": {
            "text/plain": [
              "<IPython.core.display.HTML object>"
            ],
            "text/html": [
              "\n",
              "    <div>\n",
              "      \n",
              "      <progress value='687' max='687' style='width:300px; height:20px; vertical-align: middle;'></progress>\n",
              "      [687/687 03:27, Epoch 3/3]\n",
              "    </div>\n",
              "    <table border=\"1\" class=\"dataframe\">\n",
              "  <thead>\n",
              " <tr style=\"text-align: left;\">\n",
              "      <th>Epoch</th>\n",
              "      <th>Training Loss</th>\n",
              "      <th>Validation Loss</th>\n",
              "      <th>Accuracy</th>\n",
              "      <th>Precision</th>\n",
              "      <th>Recall</th>\n",
              "      <th>F1</th>\n",
              "    </tr>\n",
              "  </thead>\n",
              "  <tbody>\n",
              "    <tr>\n",
              "      <td>1</td>\n",
              "      <td>No log</td>\n",
              "      <td>0.587878</td>\n",
              "      <td>0.694323</td>\n",
              "      <td>0.690970</td>\n",
              "      <td>0.694323</td>\n",
              "      <td>0.655148</td>\n",
              "    </tr>\n",
              "    <tr>\n",
              "      <td>2</td>\n",
              "      <td>No log</td>\n",
              "      <td>0.607441</td>\n",
              "      <td>0.686681</td>\n",
              "      <td>0.679218</td>\n",
              "      <td>0.686681</td>\n",
              "      <td>0.681396</td>\n",
              "    </tr>\n",
              "    <tr>\n",
              "      <td>3</td>\n",
              "      <td>0.583500</td>\n",
              "      <td>0.606240</td>\n",
              "      <td>0.687773</td>\n",
              "      <td>0.675023</td>\n",
              "      <td>0.687773</td>\n",
              "      <td>0.673244</td>\n",
              "    </tr>\n",
              "  </tbody>\n",
              "</table><p>"
            ]
          },
          "metadata": {}
        },
        {
          "output_type": "display_data",
          "data": {
            "text/plain": [
              "<IPython.core.display.HTML object>"
            ],
            "text/html": []
          },
          "metadata": {}
        },
        {
          "output_type": "stream",
          "name": "stdout",
          "text": [
            "=== DistilBERT Fine-Tuned ===\n",
            "              precision    recall  f1-score   support\n",
            "\n",
            "           0       0.74      0.79      0.76       584\n",
            "           1       0.58      0.50      0.54       332\n",
            "\n",
            "    accuracy                           0.69       916\n",
            "   macro avg       0.66      0.65      0.65       916\n",
            "weighted avg       0.68      0.69      0.68       916\n",
            "\n"
          ]
        }
      ]
    },
    {
      "cell_type": "markdown",
      "source": [
        "#Models without Word Embeddings\n",
        "using tf-idf and lexicon based features\n",
        "1. Logistic Regression\n",
        "2. Multinomial Naive-Bayes\n",
        "3. Random Forest"
      ],
      "metadata": {
        "id": "OeODami52ATW"
      }
    },
    {
      "cell_type": "code",
      "source": [
        "get_text = FunctionTransformer(lambda x: x['text'], validate=False)\n",
        "\n",
        "pipeline_LR = Pipeline([\n",
        "    ('features', FeatureUnion(\n",
        "        transformer_list=[\n",
        "            ('tfidf', Pipeline([\n",
        "                ('selector', get_text),\n",
        "                ('tfidf', TfidfVectorizer(ngram_range=(1,2), max_features=5000))\n",
        "            ])),\n",
        "            ('lexicon', LexiconFeatureExtractor())\n",
        "        ]\n",
        "    )),\n",
        "    ('clf', LogisticRegression(max_iter=200))\n",
        "])\n",
        "\n",
        "pipeline_rf = Pipeline([\n",
        "    ('features', FeatureUnion(\n",
        "        transformer_list=[\n",
        "            ('tfidf', Pipeline([\n",
        "                ('selector', get_text),\n",
        "                ('tfidf', TfidfVectorizer(ngram_range=(1,2), max_features=5000))\n",
        "            ])),\n",
        "            ('lexicon', LexiconFeatureExtractor())\n",
        "        ]\n",
        "    )),\n",
        "    ('clf', RandomForestClassifier(n_estimators=100, random_state=42))\n",
        "])\n",
        "\n",
        "pipeline_nb = Pipeline([\n",
        "    ('features', FeatureUnion(\n",
        "        transformer_list=[\n",
        "            ('tfidf', Pipeline([\n",
        "                ('selector', get_text),\n",
        "                ('tfidf', TfidfVectorizer(ngram_range=(1,2), max_features=5000))\n",
        "            ])),\n",
        "            ('lexicon', LexiconFeatureExtractor())\n",
        "        ]\n",
        "    )),\n",
        "    ('clf', MultinomialNB())\n",
        "])"
      ],
      "metadata": {
        "id": "T88B9vFpQm1K"
      },
      "execution_count": 12,
      "outputs": []
    },
    {
      "cell_type": "code",
      "source": [
        "# Logistic Regression\n",
        "pipeline_LR.fit(X_train_bl[['text']], y_train_bl)\n",
        "preds_LR = pipeline_LR.predict(X_test_bl)\n",
        "print(\"\\n=== Logistic Regression ===\")\n",
        "print(classification_report(y_test_bl, preds_LR))\n",
        "\n",
        "# Random Forest\n",
        "pipeline_rf.fit(X_train_bl[['text']], y_train_bl)\n",
        "preds_rf = pipeline_rf.predict(X_test_bl)\n",
        "print(\"\\n=== Random Forest ===\")\n",
        "print(classification_report(y_test_bl, preds_rf))\n",
        "\n",
        "# Naive Bayes\n",
        "pipeline_nb.fit(X_train_bl[['text']], y_train_bl)\n",
        "preds_nb = pipeline_nb.predict(X_test_bl)\n",
        "print(\"\\n=== Naive Bayes ===\")\n",
        "print(classification_report(y_test_bl, preds_nb))\n",
        "\n"
      ],
      "metadata": {
        "colab": {
          "base_uri": "https://localhost:8080/",
          "height": 0
        },
        "id": "UaC9XOUcQsJM",
        "outputId": "3fc2d242-a3d9-4421-acc8-37bef5de4d43"
      },
      "execution_count": 13,
      "outputs": [
        {
          "output_type": "stream",
          "name": "stdout",
          "text": [
            "\n",
            "=== Logistic Regression ===\n",
            "              precision    recall  f1-score   support\n",
            "\n",
            "         0.0       0.68      0.89      0.77       584\n",
            "         1.0       0.59      0.28      0.38       332\n",
            "\n",
            "    accuracy                           0.67       916\n",
            "   macro avg       0.64      0.58      0.58       916\n",
            "weighted avg       0.65      0.67      0.63       916\n",
            "\n",
            "\n",
            "=== Random Forest ===\n",
            "              precision    recall  f1-score   support\n",
            "\n",
            "         0.0       0.69      0.94      0.80       584\n",
            "         1.0       0.70      0.27      0.39       332\n",
            "\n",
            "    accuracy                           0.69       916\n",
            "   macro avg       0.70      0.60      0.59       916\n",
            "weighted avg       0.70      0.69      0.65       916\n",
            "\n",
            "\n",
            "=== Naive Bayes ===\n",
            "              precision    recall  f1-score   support\n",
            "\n",
            "         0.0       0.67      0.96      0.79       584\n",
            "         1.0       0.70      0.16      0.26       332\n",
            "\n",
            "    accuracy                           0.67       916\n",
            "   macro avg       0.68      0.56      0.52       916\n",
            "weighted avg       0.68      0.67      0.60       916\n",
            "\n"
          ]
        }
      ]
    },
    {
      "cell_type": "code",
      "source": [
        "import matplotlib.pyplot as plt\n",
        "import seaborn as sns\n",
        "\n",
        "sns.set(style=\"whitegrid\")\n",
        "plt.figure(figsize=(6, 6))\n",
        "\n",
        "ax = sns.barplot(x=list(f1_scores.keys()), y=list(f1_scores.values()), color='pink', ci=None)\n",
        "\n",
        "for p in ax.patches:\n",
        "    current_width = p.get_width()\n",
        "    new_width = current_width * 0.3\n",
        "    diff = current_width - new_width\n",
        "    p.set_width(new_width)\n",
        "    p.set_x(p.get_x() + diff / 2)\n",
        "\n",
        "for p in ax.patches:\n",
        "    ax.annotate(f'{p.get_height():.2f}',\n",
        "                (p.get_x() + p.get_width() / 2., p.get_height()),\n",
        "                ha='center', va='bottom', fontsize=10, fontweight='bold')\n",
        "\n",
        "plt.title('F-1 scores without word vectors')\n",
        "plt.ylabel('F1 Score')\n",
        "plt.ylim(0, 1)\n",
        "plt.xticks(rotation=30)\n",
        "plt.tight_layout()\n",
        "plt.show()"
      ],
      "metadata": {
        "colab": {
          "base_uri": "https://localhost:8080/",
          "height": 690
        },
        "id": "w7Dy4P3JmOEM",
        "outputId": "bef08e52-b875-4b09-dc07-37c48c41ee90"
      },
      "execution_count": 45,
      "outputs": [
        {
          "output_type": "stream",
          "name": "stderr",
          "text": [
            "<ipython-input-45-0a50b393e6b4>:7: FutureWarning: \n",
            "\n",
            "The `ci` parameter is deprecated. Use `errorbar=None` for the same effect.\n",
            "\n",
            "  ax = sns.barplot(x=list(f1_scores.keys()), y=list(f1_scores.values()), color='pink', ci=None)\n"
          ]
        },
        {
          "output_type": "display_data",
          "data": {
            "text/plain": [
              "<Figure size 600x600 with 1 Axes>"
            ],
            "image/png": "[encoded data removed]"
          },
          "metadata": {}
        }
      ]
    },
    {
      "cell_type": "code",
      "source": [
        "data = {\n",
        "    'Model': ['Neural Network', 'XGBoost', 'DistilBERT (fine-tuned)'],\n",
        "    'F1-score': [report_mlp['weighted avg']['f1-score'], report_xgb['weighted avg']['f1-score'], report_bert['weighted avg']['f1-score']],\n",
        "}\n",
        "\n",
        "df = pd.DataFrame(data)\n",
        "\n",
        "sns.set(style=\"whitegrid\")\n",
        "plt.figure(figsize=(6, 6))\n",
        "\n",
        "ax = sns.barplot(x='Model', y='F1-score', data=df, color='skyblue', ci=None)\n",
        "\n",
        "for p in ax.patches:\n",
        "    current_width = p.get_width()\n",
        "    new_width = current_width * 0.3\n",
        "    diff = current_width - new_width\n",
        "    p.set_width(new_width)\n",
        "    p.set_x(p.get_x() + diff / 2)\n",
        "\n",
        "for p in ax.patches:\n",
        "    ax.annotate(f'{p.get_height():.2f}',\n",
        "                (p.get_x() + p.get_width() / 2., p.get_height()),\n",
        "                ha='center', va='bottom', fontsize=10, fontweight='bold')\n",
        "\n",
        "plt.title('F-1 scores with word vectors')\n",
        "plt.ylabel('F1 Score')\n",
        "plt.xlabel('')\n",
        "plt.ylim(0, 1)\n",
        "plt.xticks(rotation=30)\n",
        "plt.tight_layout()\n",
        "plt.show()"
      ],
      "metadata": {
        "colab": {
          "base_uri": "https://localhost:8080/",
          "height": 690
        },
        "id": "oZjSlIWqnrU4",
        "outputId": "32ad9a11-c1af-4451-acdd-d0cb801a590d"
      },
      "execution_count": 44,
      "outputs": [
        {
          "output_type": "stream",
          "name": "stderr",
          "text": [
            "<ipython-input-44-5048c164777b>:11: FutureWarning: \n",
            "\n",
            "The `ci` parameter is deprecated. Use `errorbar=None` for the same effect.\n",
            "\n",
            "  ax = sns.barplot(x='Model', y='F1-score', data=df, color='skyblue', ci=None)\n"
          ]
        },
        {
          "output_type": "display_data",
          "data": {
            "text/plain": [
              "<Figure size 600x600 with 1 Axes>"
            ],
            "image/png": "[encoded data removed]"
          },
          "metadata": {}
        }
      ]
    }
  ],
  "metadata": {
    "accelerator": "GPU",
    "colab": {
      "gpuType": "T4",
      "provenance": []
    },
    "kernelspec": {
      "display_name": "Python 3",
      "name": "python3"
    },
    "language_info": {
      "name": "python"
    },
    "widgets": {
      "application/vnd.jupyter.widget-state+json": {
        "03e4f93a3dde47f3a2fc9391f7f06d08": {
          "model_module": "@jupyter-widgets/controls",
          "model_name": "HBoxModel",
          "model_module_version": "1.5.0",
          "state": {
            "_dom_classes": [],
            "_model_module": "@jupyter-widgets/controls",
            "_model_module_version": "1.5.0",
            "_model_name": "HBoxModel",
            "_view_count": null,
            "_view_module": "@jupyter-widgets/controls",
            "_view_module_version": "1.5.0",
            "_view_name": "HBoxView",
            "box_style": "",
            "children": [
              "IPY_MODEL_4e97dab6e72944beb95c5596f46076b9",
              "IPY_MODEL_9258a14bf06842c68236a5c7df0c0fc4",
              "IPY_MODEL_cac782d58c8444d2a8706ad2cb874ccc"
            ],
            "layout": "IPY_MODEL_c128f2ca0aee402c9dbf71202b24b245"
          }
        },
        "4e97dab6e72944beb95c5596f46076b9": {
          "model_module": "@jupyter-widgets/controls",
          "model_name": "HTMLModel",
          "model_module_version": "1.5.0",
          "state": {
            "_dom_classes": [],
            "_model_module": "@jupyter-widgets/controls",
            "_model_module_version": "1.5.0",
            "_model_name": "HTMLModel",
            "_view_count": null,
            "_view_module": "@jupyter-widgets/controls",
            "_view_module_version": "1.5.0",
            "_view_name": "HTMLView",
            "description": "",
            "description_tooltip": null,
            "layout": "IPY_MODEL_00bf261d4b784594b5cf96b84ba09982",
            "placeholder": "​",
            "style": "IPY_MODEL_12c7728be58c423eb055ff09e08662d3",
            "value": "Map: 100%"
          }
        },
        "9258a14bf06842c68236a5c7df0c0fc4": {
          "model_module": "@jupyter-widgets/controls",
          "model_name": "FloatProgressModel",
          "model_module_version": "1.5.0",
          "state": {
            "_dom_classes": [],
            "_model_module": "@jupyter-widgets/controls",
            "_model_module_version": "1.5.0",
            "_model_name": "FloatProgressModel",
            "_view_count": null,
            "_view_module": "@jupyter-widgets/controls",
            "_view_module_version": "1.5.0",
            "_view_name": "ProgressView",
            "bar_style": "success",
            "description": "",
            "description_tooltip": null,
            "layout": "IPY_MODEL_fb04ccb265a24fc2a9d91a3f88a1132f",
            "max": 3661,
            "min": 0,
            "orientation": "horizontal",
            "style": "IPY_MODEL_bd80531d759d4d33ad6a51759252a8a7",
            "value": 3661
          }
        },
        "cac782d58c8444d2a8706ad2cb874ccc": {
          "model_module": "@jupyter-widgets/controls",
          "model_name": "HTMLModel",
          "model_module_version": "1.5.0",
          "state": {
            "_dom_classes": [],
            "_model_module": "@jupyter-widgets/controls",
            "_model_module_version": "1.5.0",
            "_model_name": "HTMLModel",
            "_view_count": null,
            "_view_module": "@jupyter-widgets/controls",
            "_view_module_version": "1.5.0",
            "_view_name": "HTMLView",
            "description": "",
            "description_tooltip": null,
            "layout": "IPY_MODEL_2261dbefd0534af3bdc6f1a57b340e8e",
            "placeholder": "​",
            "style": "IPY_MODEL_c4836f5637594fa28897d656957c8f64",
            "value": " 3661/3661 [00:00&lt;00:00, 4282.05 examples/s]"
          }
        },
        "c128f2ca0aee402c9dbf71202b24b245": {
          "model_module": "@jupyter-widgets/base",
          "model_name": "LayoutModel",
          "model_module_version": "1.2.0",
          "state": {
            "_model_module": "@jupyter-widgets/base",
            "_model_module_version": "1.2.0",
            "_model_name": "LayoutModel",
            "_view_count": null,
            "_view_module": "@jupyter-widgets/base",
            "_view_module_version": "1.2.0",
            "_view_name": "LayoutView",
            "align_content": null,
            "align_items": null,
            "align_self": null,
            "border": null,
            "bottom": null,
            "display": null,
            "flex": null,
            "flex_flow": null,
            "grid_area": null,
            "grid_auto_columns": null,
            "grid_auto_flow": null,
            "grid_auto_rows": null,
            "grid_column": null,
            "grid_gap": null,
            "grid_row": null,
            "grid_template_areas": null,
            "grid_template_columns": null,
            "grid_template_rows": null,
            "height": null,
            "justify_content": null,
            "justify_items": null,
            "left": null,
            "margin": null,
            "max_height": null,
            "max_width": null,
            "min_height": null,
            "min_width": null,
            "object_fit": null,
            "object_position": null,
            "order": null,
            "overflow": null,
            "overflow_x": null,
            "overflow_y": null,
            "padding": null,
            "right": null,
            "top": null,
            "visibility": null,
            "width": null
          }
        },
        "00bf261d4b784594b5cf96b84ba09982": {
          "model_module": "@jupyter-widgets/base",
          "model_name": "LayoutModel",
          "model_module_version": "1.2.0",
          "state": {
            "_model_module": "@jupyter-widgets/base",
            "_model_module_version": "1.2.0",
            "_model_name": "LayoutModel",
            "_view_count": null,
            "_view_module": "@jupyter-widgets/base",
            "_view_module_version": "1.2.0",
            "_view_name": "LayoutView",
            "align_content": null,
            "align_items": null,
            "align_self": null,
            "border": null,
            "bottom": null,
            "display": null,
            "flex": null,
            "flex_flow": null,
            "grid_area": null,
            "grid_auto_columns": null,
            "grid_auto_flow": null,
            "grid_auto_rows": null,
            "grid_column": null,
            "grid_gap": null,
            "grid_row": null,
            "grid_template_areas": null,
            "grid_template_columns": null,
            "grid_template_rows": null,
            "height": null,
            "justify_content": null,
            "justify_items": null,
            "left": null,
            "margin": null,
            "max_height": null,
            "max_width": null,
            "min_height": null,
            "min_width": null,
            "object_fit": null,
            "object_position": null,
            "order": null,
            "overflow": null,
            "overflow_x": null,
            "overflow_y": null,
            "padding": null,
            "right": null,
            "top": null,
            "visibility": null,
            "width": null
          }
        },
        "12c7728be58c423eb055ff09e08662d3": {
          "model_module": "@jupyter-widgets/controls",
          "model_name": "DescriptionStyleModel",
          "model_module_version": "1.5.0",
          "state": {
            "_model_module": "@jupyter-widgets/controls",
            "_model_module_version": "1.5.0",
            "_model_name": "DescriptionStyleModel",
            "_view_count": null,
            "_view_module": "@jupyter-widgets/base",
            "_view_module_version": "1.2.0",
            "_view_name": "StyleView",
            "description_width": ""
          }
        },
        "fb04ccb265a24fc2a9d91a3f88a1132f": {
          "model_module": "@jupyter-widgets/base",
          "model_name": "LayoutModel",
          "model_module_version": "1.2.0",
          "state": {
            "_model_module": "@jupyter-widgets/base",
            "_model_module_version": "1.2.0",
            "_model_name": "LayoutModel",
            "_view_count": null,
            "_view_module": "@jupyter-widgets/base",
            "_view_module_version": "1.2.0",
            "_view_name": "LayoutView",
            "align_content": null,
            "align_items": null,
            "align_self": null,
            "border": null,
            "bottom": null,
            "display": null,
            "flex": null,
            "flex_flow": null,
            "grid_area": null,
            "grid_auto_columns": null,
            "grid_auto_flow": null,
            "grid_auto_rows": null,
            "grid_column": null,
            "grid_gap": null,
            "grid_row": null,
            "grid_template_areas": null,
            "grid_template_columns": null,
            "grid_template_rows": null,
            "height": null,
            "justify_content": null,
            "justify_items": null,
            "left": null,
            "margin": null,
            "max_height": null,
            "max_width": null,
            "min_height": null,
            "min_width": null,
            "object_fit": null,
            "object_position": null,
            "order": null,
            "overflow": null,
            "overflow_x": null,
            "overflow_y": null,
            "padding": null,
            "right": null,
            "top": null,
            "visibility": null,
            "width": null
          }
        },
        "bd80531d759d4d33ad6a51759252a8a7": {
          "model_module": "@jupyter-widgets/controls",
          "model_name": "ProgressStyleModel",
          "model_module_version": "1.5.0",
          "state": {
            "_model_module": "@jupyter-widgets/controls",
            "_model_module_version": "1.5.0",
            "_model_name": "ProgressStyleModel",
            "_view_count": null,
            "_view_module": "@jupyter-widgets/base",
            "_view_module_version": "1.2.0",
            "_view_name": "StyleView",
            "bar_color": null,
            "description_width": ""
          }
        },
        "2261dbefd0534af3bdc6f1a57b340e8e": {
          "model_module": "@jupyter-widgets/base",
          "model_name": "LayoutModel",
          "model_module_version": "1.2.0",
          "state": {
            "_model_module": "@jupyter-widgets/base",
            "_model_module_version": "1.2.0",
            "_model_name": "LayoutModel",
            "_view_count": null,
            "_view_module": "@jupyter-widgets/base",
            "_view_module_version": "1.2.0",
            "_view_name": "LayoutView",
            "align_content": null,
            "align_items": null,
            "align_self": null,
            "border": null,
            "bottom": null,
            "display": null,
            "flex": null,
            "flex_flow": null,
            "grid_area": null,
            "grid_auto_columns": null,
            "grid_auto_flow": null,
            "grid_auto_rows": null,
            "grid_column": null,
            "grid_gap": null,
            "grid_row": null,
            "grid_template_areas": null,
            "grid_template_columns": null,
            "grid_template_rows": null,
            "height": null,
            "justify_content": null,
            "justify_items": null,
            "left": null,
            "margin": null,
            "max_height": null,
            "max_width": null,
            "min_height": null,
            "min_width": null,
            "object_fit": null,
            "object_position": null,
            "order": null,
            "overflow": null,
            "overflow_x": null,
            "overflow_y": null,
            "padding": null,
            "right": null,
            "top": null,
            "visibility": null,
            "width": null
          }
        },
        "c4836f5637594fa28897d656957c8f64": {
          "model_module": "@jupyter-widgets/controls",
          "model_name": "DescriptionStyleModel",
          "model_module_version": "1.5.0",
          "state": {
            "_model_module": "@jupyter-widgets/controls",
            "_model_module_version": "1.5.0",
            "_model_name": "DescriptionStyleModel",
            "_view_count": null,
            "_view_module": "@jupyter-widgets/base",
            "_view_module_version": "1.2.0",
            "_view_name": "StyleView",
            "description_width": ""
          }
        },
        "62d386440bbc43d9910946d9c073475a": {
          "model_module": "@jupyter-widgets/controls",
          "model_name": "HBoxModel",
          "model_module_version": "1.5.0",
          "state": {
            "_dom_classes": [],
            "_model_module": "@jupyter-widgets/controls",
            "_model_module_version": "1.5.0",
            "_model_name": "HBoxModel",
            "_view_count": null,
            "_view_module": "@jupyter-widgets/controls",
            "_view_module_version": "1.5.0",
            "_view_name": "HBoxView",
            "box_style": "",
            "children": [
              "IPY_MODEL_cebe63e1d98f4a5294352a3fbb771399",
              "IPY_MODEL_03dd907961f14e1d917f5915f99bedc8",
              "IPY_MODEL_bdc55e7db3444c8494bb5a0c45e1482e"
            ],
            "layout": "IPY_MODEL_7c572854c2f1422eb87b9a8600f9c80c"
          }
        },
        "cebe63e1d98f4a5294352a3fbb771399": {
          "model_module": "@jupyter-widgets/controls",
          "model_name": "HTMLModel",
          "model_module_version": "1.5.0",
          "state": {
            "_dom_classes": [],
            "_model_module": "@jupyter-widgets/controls",
            "_model_module_version": "1.5.0",
            "_model_name": "HTMLModel",
            "_view_count": null,
            "_view_module": "@jupyter-widgets/controls",
            "_view_module_version": "1.5.0",
            "_view_name": "HTMLView",
            "description": "",
            "description_tooltip": null,
            "layout": "IPY_MODEL_75ffdc4466b14178895c8dccd0854448",
            "placeholder": "​",
            "style": "IPY_MODEL_86402d7b8a3c4ccd852c60726846e82b",
            "value": "Map: 100%"
          }
        },
        "03dd907961f14e1d917f5915f99bedc8": {
          "model_module": "@jupyter-widgets/controls",
          "model_name": "FloatProgressModel",
          "model_module_version": "1.5.0",
          "state": {
            "_dom_classes": [],
            "_model_module": "@jupyter-widgets/controls",
            "_model_module_version": "1.5.0",
            "_model_name": "FloatProgressModel",
            "_view_count": null,
            "_view_module": "@jupyter-widgets/controls",
            "_view_module_version": "1.5.0",
            "_view_name": "ProgressView",
            "bar_style": "success",
            "description": "",
            "description_tooltip": null,
            "layout": "IPY_MODEL_e70bb9bd76c84f529731feef0908cf89",
            "max": 916,
            "min": 0,
            "orientation": "horizontal",
            "style": "IPY_MODEL_6003dbe1871641bdac6b5ac09b792b6f",
            "value": 916
          }
        },
        "bdc55e7db3444c8494bb5a0c45e1482e": {
          "model_module": "@jupyter-widgets/controls",
          "model_name": "HTMLModel",
          "model_module_version": "1.5.0",
          "state": {
            "_dom_classes": [],
            "_model_module": "@jupyter-widgets/controls",
            "_model_module_version": "1.5.0",
            "_model_name": "HTMLModel",
            "_view_count": null,
            "_view_module": "@jupyter-widgets/controls",
            "_view_module_version": "1.5.0",
            "_view_name": "HTMLView",
            "description": "",
            "description_tooltip": null,
            "layout": "IPY_MODEL_625c99cbd048400c9753e4642a13ea52",
            "placeholder": "​",
            "style": "IPY_MODEL_3862484f245f4ab5be233df875283df1",
            "value": " 916/916 [00:00&lt;00:00, 3972.97 examples/s]"
          }
        },
        "7c572854c2f1422eb87b9a8600f9c80c": {
          "model_module": "@jupyter-widgets/base",
          "model_name": "LayoutModel",
          "model_module_version": "1.2.0",
          "state": {
            "_model_module": "@jupyter-widgets/base",
            "_model_module_version": "1.2.0",
            "_model_name": "LayoutModel",
            "_view_count": null,
            "_view_module": "@jupyter-widgets/base",
            "_view_module_version": "1.2.0",
            "_view_name": "LayoutView",
            "align_content": null,
            "align_items": null,
            "align_self": null,
            "border": null,
            "bottom": null,
            "display": null,
            "flex": null,
            "flex_flow": null,
            "grid_area": null,
            "grid_auto_columns": null,
            "grid_auto_flow": null,
            "grid_auto_rows": null,
            "grid_column": null,
            "grid_gap": null,
            "grid_row": null,
            "grid_template_areas": null,
            "grid_template_columns": null,
            "grid_template_rows": null,
            "height": null,
            "justify_content": null,
            "justify_items": null,
            "left": null,
            "margin": null,
            "max_height": null,
            "max_width": null,
            "min_height": null,
            "min_width": null,
            "object_fit": null,
            "object_position": null,
            "order": null,
            "overflow": null,
            "overflow_x": null,
            "overflow_y": null,
            "padding": null,
            "right": null,
            "top": null,
            "visibility": null,
            "width": null
          }
        },
        "75ffdc4466b14178895c8dccd0854448": {
          "model_module": "@jupyter-widgets/base",
          "model_name": "LayoutModel",
          "model_module_version": "1.2.0",
          "state": {
            "_model_module": "@jupyter-widgets/base",
            "_model_module_version": "1.2.0",
            "_model_name": "LayoutModel",
            "_view_count": null,
            "_view_module": "@jupyter-widgets/base",
            "_view_module_version": "1.2.0",
            "_view_name": "LayoutView",
            "align_content": null,
            "align_items": null,
            "align_self": null,
            "border": null,
            "bottom": null,
            "display": null,
            "flex": null,
            "flex_flow": null,
            "grid_area": null,
            "grid_auto_columns": null,
            "grid_auto_flow": null,
            "grid_auto_rows": null,
            "grid_column": null,
            "grid_gap": null,
            "grid_row": null,
            "grid_template_areas": null,
            "grid_template_columns": null,
            "grid_template_rows": null,
            "height": null,
            "justify_content": null,
            "justify_items": null,
            "left": null,
            "margin": null,
            "max_height": null,
            "max_width": null,
            "min_height": null,
            "min_width": null,
            "object_fit": null,
            "object_position": null,
            "order": null,
            "overflow": null,
            "overflow_x": null,
            "overflow_y": null,
            "padding": null,
            "right": null,
            "top": null,
            "visibility": null,
            "width": null
          }
        },
        "86402d7b8a3c4ccd852c60726846e82b": {
          "model_module": "@jupyter-widgets/controls",
          "model_name": "DescriptionStyleModel",
          "model_module_version": "1.5.0",
          "state": {
            "_model_module": "@jupyter-widgets/controls",
            "_model_module_version": "1.5.0",
            "_model_name": "DescriptionStyleModel",
            "_view_count": null,
            "_view_module": "@jupyter-widgets/base",
            "_view_module_version": "1.2.0",
            "_view_name": "StyleView",
            "description_width": ""
          }
        },
        "e70bb9bd76c84f529731feef0908cf89": {
          "model_module": "@jupyter-widgets/base",
          "model_name": "LayoutModel",
          "model_module_version": "1.2.0",
          "state": {
            "_model_module": "@jupyter-widgets/base",
            "_model_module_version": "1.2.0",
            "_model_name": "LayoutModel",
            "_view_count": null,
            "_view_module": "@jupyter-widgets/base",
            "_view_module_version": "1.2.0",
            "_view_name": "LayoutView",
            "align_content": null,
            "align_items": null,
            "align_self": null,
            "border": null,
            "bottom": null,
            "display": null,
            "flex": null,
            "flex_flow": null,
            "grid_area": null,
            "grid_auto_columns": null,
            "grid_auto_flow": null,
            "grid_auto_rows": null,
            "grid_column": null,
            "grid_gap": null,
            "grid_row": null,
            "grid_template_areas": null,
            "grid_template_columns": null,
            "grid_template_rows": null,
            "height": null,
            "justify_content": null,
            "justify_items": null,
            "left": null,
            "margin": null,
            "max_height": null,
            "max_width": null,
            "min_height": null,
            "min_width": null,
            "object_fit": null,
            "object_position": null,
            "order": null,
            "overflow": null,
            "overflow_x": null,
            "overflow_y": null,
            "padding": null,
            "right": null,
            "top": null,
            "visibility": null,
            "width": null
          }
        },
        "6003dbe1871641bdac6b5ac09b792b6f": {
          "model_module": "@jupyter-widgets/controls",
          "model_name": "ProgressStyleModel",
          "model_module_version": "1.5.0",
          "state": {
            "_model_module": "@jupyter-widgets/controls",
            "_model_module_version": "1.5.0",
            "_model_name": "ProgressStyleModel",
            "_view_count": null,
            "_view_module": "@jupyter-widgets/base",
            "_view_module_version": "1.2.0",
            "_view_name": "StyleView",
            "bar_color": null,
            "description_width": ""
          }
        },
        "625c99cbd048400c9753e4642a13ea52": {
          "model_module": "@jupyter-widgets/base",
          "model_name": "LayoutModel",
          "model_module_version": "1.2.0",
          "state": {
            "_model_module": "@jupyter-widgets/base",
            "_model_module_version": "1.2.0",
            "_model_name": "LayoutModel",
            "_view_count": null,
            "_view_module": "@jupyter-widgets/base",
            "_view_module_version": "1.2.0",
            "_view_name": "LayoutView",
            "align_content": null,
            "align_items": null,
            "align_self": null,
            "border": null,
            "bottom": null,
            "display": null,
            "flex": null,
            "flex_flow": null,
            "grid_area": null,
            "grid_auto_columns": null,
            "grid_auto_flow": null,
            "grid_auto_rows": null,
            "grid_column": null,
            "grid_gap": null,
            "grid_row": null,
            "grid_template_areas": null,
            "grid_template_columns": null,
            "grid_template_rows": null,
            "height": null,
            "justify_content": null,
            "justify_items": null,
            "left": null,
            "margin": null,
            "max_height": null,
            "max_width": null,
            "min_height": null,
            "min_width": null,
            "object_fit": null,
            "object_position": null,
            "order": null,
            "overflow": null,
            "overflow_x": null,
            "overflow_y": null,
            "padding": null,
            "right": null,
            "top": null,
            "visibility": null,
            "width": null
          }
        },
        "3862484f245f4ab5be233df875283df1": {
          "model_module": "@jupyter-widgets/controls",
          "model_name": "DescriptionStyleModel",
          "model_module_version": "1.5.0",
          "state": {
            "_model_module": "@jupyter-widgets/controls",
            "_model_module_version": "1.5.0",
            "_model_name": "DescriptionStyleModel",
            "_view_count": null,
            "_view_module": "@jupyter-widgets/base",
            "_view_module_version": "1.2.0",
            "_view_name": "StyleView",
            "description_width": ""
          }
        }
      }
    }
  },
  "nbformat": 4,
  "nbformat_minor": 0
}